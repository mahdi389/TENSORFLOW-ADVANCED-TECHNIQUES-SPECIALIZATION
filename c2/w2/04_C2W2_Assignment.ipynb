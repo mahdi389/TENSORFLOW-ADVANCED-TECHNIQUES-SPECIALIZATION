{
  "cells": [
    {
      "cell_type": "markdown",
      "metadata": {
        "id": "AWqcoPhU3RJN"
      },
      "source": [
        "# Breast Cancer Prediction\n",
        "\n",
        "In this exercise, you will train a neural network on the [Breast Cancer Dataset](https://archive.ics.uci.edu/ml/datasets/breast+cancer+wisconsin+(original)) to predict if the tumor is malignant or benign.\n",
        "\n",
        "If you get stuck, we recommend that you review the ungraded labs for this week."
      ]
    },
    {
      "cell_type": "markdown",
      "metadata": {
        "id": "st5AIBFZ5mEQ"
      },
      "source": [
        "## Imports"
      ]
    },
    {
      "cell_type": "code",
      "execution_count": 1,
      "metadata": {
        "id": "JkMXve8XuN5X"
      },
      "outputs": [],
      "source": [
        "import tensorflow as tf\n",
        "from tensorflow.keras.models import Model\n",
        "from tensorflow.keras.layers import Dense, Input\n",
        "\n",
        "import numpy as np\n",
        "import matplotlib.pyplot as plt\n",
        "import matplotlib.ticker as mticker\n",
        "import pandas as pd\n",
        "from sklearn.model_selection import train_test_split\n",
        "from sklearn.metrics import confusion_matrix\n",
        "import itertools\n",
        "from tqdm import tqdm\n",
        "import tensorflow_datasets as tfds\n",
        "\n",
        "tf.get_logger().setLevel('ERROR')"
      ]
    },
    {
      "cell_type": "markdown",
      "metadata": {
        "id": "yUc3HpEQ5s6U"
      },
      "source": [
        "## Load and Preprocess the Dataset"
      ]
    },
    {
      "cell_type": "markdown",
      "metadata": {
        "id": "7-TQFUXu5wS_"
      },
      "source": [
        "We first load the dataset and create a data frame using pandas. We explicitly specify the column names because the CSV file does not have column headers."
      ]
    },
    {
      "cell_type": "code",
      "execution_count": 3,
      "metadata": {
        "id": "HVh-W73J5TjS"
      },
      "outputs": [],
      "source": [
        "data_file = './sample_data/data.csv'\n",
        "col_names = [\"id\", \"clump_thickness\", \"un_cell_size\", \"un_cell_shape\", \"marginal_adheshion\", \"single_eph_cell_size\", \"bare_nuclei\", \"bland_chromatin\", \"normal_nucleoli\", \"mitoses\", \"class\"]\n",
        "df = pd.read_csv(data_file, names=col_names, header=None)"
      ]
    },
    {
      "cell_type": "code",
      "execution_count": 4,
      "metadata": {
        "id": "XEv8vS_P6HaV",
        "colab": {
          "base_uri": "https://localhost:8080/",
          "height": 243
        },
        "outputId": "65e873d0-3fa0-4950-9ca2-d7274e8d5ab4"
      },
      "outputs": [
        {
          "output_type": "execute_result",
          "data": {
            "text/plain": [
              "                                                                                                                                                                                                                                                                                                                                id  \\\n",
              "id       diagnosis radius_mean texture_mean perimeter_mean area_mean smoothness_mean compactness_mean concavity_mean concave points_mean symmetry_mean fractal_dimension_mean radius_se texture_se perimeter_se area_se smoothness_se compactness_se concavity_se concave points_se symmetry_se fractal_dimension_se  radius_worst   \n",
              "842302   M         17.99       10.38        122.8          1001      0.1184          0.2776           0.3001         0.1471              0.2419        0.07871                1.095     0.9053     8.589        153.4   0.006399      0.04904        0.05373      0.01587           0.03003     0.006193                     25.38   \n",
              "842517   M         20.57       17.77        132.9          1326      0.08474         0.07864          0.0869         0.07017             0.1812        0.05667                0.5435    0.7339     3.398        74.08   0.005225      0.01308        0.0186       0.0134            0.01389     0.003532                     24.99   \n",
              "84300903 M         19.69       21.25        130            1203      0.1096          0.1599           0.1974         0.1279              0.2069        0.05999                0.7456    0.7869     4.585        94.03   0.00615       0.04006        0.03832      0.02058           0.0225      0.004571                     23.57   \n",
              "84348301 M         11.42       20.38        77.58          386.1     0.1425          0.2839           0.2414         0.1052              0.2597        0.09744                0.4956    1.156      3.445        27.23   0.00911       0.07458        0.05661      0.01867           0.05963     0.009208                     14.91   \n",
              "\n",
              "                                                                                                                                                                                                                                                                                                                     clump_thickness  \\\n",
              "id       diagnosis radius_mean texture_mean perimeter_mean area_mean smoothness_mean compactness_mean concavity_mean concave points_mean symmetry_mean fractal_dimension_mean radius_se texture_se perimeter_se area_se smoothness_se compactness_se concavity_se concave points_se symmetry_se fractal_dimension_se   texture_worst   \n",
              "842302   M         17.99       10.38        122.8          1001      0.1184          0.2776           0.3001         0.1471              0.2419        0.07871                1.095     0.9053     8.589        153.4   0.006399      0.04904        0.05373      0.01587           0.03003     0.006193                       17.33   \n",
              "842517   M         20.57       17.77        132.9          1326      0.08474         0.07864          0.0869         0.07017             0.1812        0.05667                0.5435    0.7339     3.398        74.08   0.005225      0.01308        0.0186       0.0134            0.01389     0.003532                       23.41   \n",
              "84300903 M         19.69       21.25        130            1203      0.1096          0.1599           0.1974         0.1279              0.2069        0.05999                0.7456    0.7869     4.585        94.03   0.00615       0.04006        0.03832      0.02058           0.0225      0.004571                       25.53   \n",
              "84348301 M         11.42       20.38        77.58          386.1     0.1425          0.2839           0.2414         0.1052              0.2597        0.09744                0.4956    1.156      3.445        27.23   0.00911       0.07458        0.05661      0.01867           0.05963     0.009208                        26.5   \n",
              "\n",
              "                                                                                                                                                                                                                                                                                                                         un_cell_size  \\\n",
              "id       diagnosis radius_mean texture_mean perimeter_mean area_mean smoothness_mean compactness_mean concavity_mean concave points_mean symmetry_mean fractal_dimension_mean radius_se texture_se perimeter_se area_se smoothness_se compactness_se concavity_se concave points_se symmetry_se fractal_dimension_se  perimeter_worst   \n",
              "842302   M         17.99       10.38        122.8          1001      0.1184          0.2776           0.3001         0.1471              0.2419        0.07871                1.095     0.9053     8.589        153.4   0.006399      0.04904        0.05373      0.01587           0.03003     0.006193                        184.6   \n",
              "842517   M         20.57       17.77        132.9          1326      0.08474         0.07864          0.0869         0.07017             0.1812        0.05667                0.5435    0.7339     3.398        74.08   0.005225      0.01308        0.0186       0.0134            0.01389     0.003532                        158.8   \n",
              "84300903 M         19.69       21.25        130            1203      0.1096          0.1599           0.1974         0.1279              0.2069        0.05999                0.7456    0.7869     4.585        94.03   0.00615       0.04006        0.03832      0.02058           0.0225      0.004571                        152.5   \n",
              "84348301 M         11.42       20.38        77.58          386.1     0.1425          0.2839           0.2414         0.1052              0.2597        0.09744                0.4956    1.156      3.445        27.23   0.00911       0.07458        0.05661      0.01867           0.05963     0.009208                        98.87   \n",
              "\n",
              "                                                                                                                                                                                                                                                                                                                     un_cell_shape  \\\n",
              "id       diagnosis radius_mean texture_mean perimeter_mean area_mean smoothness_mean compactness_mean concavity_mean concave points_mean symmetry_mean fractal_dimension_mean radius_se texture_se perimeter_se area_se smoothness_se compactness_se concavity_se concave points_se symmetry_se fractal_dimension_se    area_worst   \n",
              "842302   M         17.99       10.38        122.8          1001      0.1184          0.2776           0.3001         0.1471              0.2419        0.07871                1.095     0.9053     8.589        153.4   0.006399      0.04904        0.05373      0.01587           0.03003     0.006193                      2019   \n",
              "842517   M         20.57       17.77        132.9          1326      0.08474         0.07864          0.0869         0.07017             0.1812        0.05667                0.5435    0.7339     3.398        74.08   0.005225      0.01308        0.0186       0.0134            0.01389     0.003532                      1956   \n",
              "84300903 M         19.69       21.25        130            1203      0.1096          0.1599           0.1974         0.1279              0.2069        0.05999                0.7456    0.7869     4.585        94.03   0.00615       0.04006        0.03832      0.02058           0.0225      0.004571                      1709   \n",
              "84348301 M         11.42       20.38        77.58          386.1     0.1425          0.2839           0.2414         0.1052              0.2597        0.09744                0.4956    1.156      3.445        27.23   0.00911       0.07458        0.05661      0.01867           0.05963     0.009208                     567.7   \n",
              "\n",
              "                                                                                                                                                                                                                                                                                                                     marginal_adheshion  \\\n",
              "id       diagnosis radius_mean texture_mean perimeter_mean area_mean smoothness_mean compactness_mean concavity_mean concave points_mean symmetry_mean fractal_dimension_mean radius_se texture_se perimeter_se area_se smoothness_se compactness_se concavity_se concave points_se symmetry_se fractal_dimension_se   smoothness_worst   \n",
              "842302   M         17.99       10.38        122.8          1001      0.1184          0.2776           0.3001         0.1471              0.2419        0.07871                1.095     0.9053     8.589        153.4   0.006399      0.04904        0.05373      0.01587           0.03003     0.006193                         0.1622   \n",
              "842517   M         20.57       17.77        132.9          1326      0.08474         0.07864          0.0869         0.07017             0.1812        0.05667                0.5435    0.7339     3.398        74.08   0.005225      0.01308        0.0186       0.0134            0.01389     0.003532                         0.1238   \n",
              "84300903 M         19.69       21.25        130            1203      0.1096          0.1599           0.1974         0.1279              0.2069        0.05999                0.7456    0.7869     4.585        94.03   0.00615       0.04006        0.03832      0.02058           0.0225      0.004571                         0.1444   \n",
              "84348301 M         11.42       20.38        77.58          386.1     0.1425          0.2839           0.2414         0.1052              0.2597        0.09744                0.4956    1.156      3.445        27.23   0.00911       0.07458        0.05661      0.01867           0.05963     0.009208                         0.2098   \n",
              "\n",
              "                                                                                                                                                                                                                                                                                                                     single_eph_cell_size  \\\n",
              "id       diagnosis radius_mean texture_mean perimeter_mean area_mean smoothness_mean compactness_mean concavity_mean concave points_mean symmetry_mean fractal_dimension_mean radius_se texture_se perimeter_se area_se smoothness_se compactness_se concavity_se concave points_se symmetry_se fractal_dimension_se    compactness_worst   \n",
              "842302   M         17.99       10.38        122.8          1001      0.1184          0.2776           0.3001         0.1471              0.2419        0.07871                1.095     0.9053     8.589        153.4   0.006399      0.04904        0.05373      0.01587           0.03003     0.006193                           0.6656   \n",
              "842517   M         20.57       17.77        132.9          1326      0.08474         0.07864          0.0869         0.07017             0.1812        0.05667                0.5435    0.7339     3.398        74.08   0.005225      0.01308        0.0186       0.0134            0.01389     0.003532                           0.1866   \n",
              "84300903 M         19.69       21.25        130            1203      0.1096          0.1599           0.1974         0.1279              0.2069        0.05999                0.7456    0.7869     4.585        94.03   0.00615       0.04006        0.03832      0.02058           0.0225      0.004571                           0.4245   \n",
              "84348301 M         11.42       20.38        77.58          386.1     0.1425          0.2839           0.2414         0.1052              0.2597        0.09744                0.4956    1.156      3.445        27.23   0.00911       0.07458        0.05661      0.01867           0.05963     0.009208                           0.8663   \n",
              "\n",
              "                                                                                                                                                                                                                                                                                                                          bare_nuclei  \\\n",
              "id       diagnosis radius_mean texture_mean perimeter_mean area_mean smoothness_mean compactness_mean concavity_mean concave points_mean symmetry_mean fractal_dimension_mean radius_se texture_se perimeter_se area_se smoothness_se compactness_se concavity_se concave points_se symmetry_se fractal_dimension_se  concavity_worst   \n",
              "842302   M         17.99       10.38        122.8          1001      0.1184          0.2776           0.3001         0.1471              0.2419        0.07871                1.095     0.9053     8.589        153.4   0.006399      0.04904        0.05373      0.01587           0.03003     0.006193                       0.7119   \n",
              "842517   M         20.57       17.77        132.9          1326      0.08474         0.07864          0.0869         0.07017             0.1812        0.05667                0.5435    0.7339     3.398        74.08   0.005225      0.01308        0.0186       0.0134            0.01389     0.003532                       0.2416   \n",
              "84300903 M         19.69       21.25        130            1203      0.1096          0.1599           0.1974         0.1279              0.2069        0.05999                0.7456    0.7869     4.585        94.03   0.00615       0.04006        0.03832      0.02058           0.0225      0.004571                       0.4504   \n",
              "84348301 M         11.42       20.38        77.58          386.1     0.1425          0.2839           0.2414         0.1052              0.2597        0.09744                0.4956    1.156      3.445        27.23   0.00911       0.07458        0.05661      0.01867           0.05963     0.009208                       0.6869   \n",
              "\n",
              "                                                                                                                                                                                                                                                                                                                           bland_chromatin  \\\n",
              "id       diagnosis radius_mean texture_mean perimeter_mean area_mean smoothness_mean compactness_mean concavity_mean concave points_mean symmetry_mean fractal_dimension_mean radius_se texture_se perimeter_se area_se smoothness_se compactness_se concavity_se concave points_se symmetry_se fractal_dimension_se  concave points_worst   \n",
              "842302   M         17.99       10.38        122.8          1001      0.1184          0.2776           0.3001         0.1471              0.2419        0.07871                1.095     0.9053     8.589        153.4   0.006399      0.04904        0.05373      0.01587           0.03003     0.006193                            0.2654   \n",
              "842517   M         20.57       17.77        132.9          1326      0.08474         0.07864          0.0869         0.07017             0.1812        0.05667                0.5435    0.7339     3.398        74.08   0.005225      0.01308        0.0186       0.0134            0.01389     0.003532                             0.186   \n",
              "84300903 M         19.69       21.25        130            1203      0.1096          0.1599           0.1974         0.1279              0.2069        0.05999                0.7456    0.7869     4.585        94.03   0.00615       0.04006        0.03832      0.02058           0.0225      0.004571                             0.243   \n",
              "84348301 M         11.42       20.38        77.58          386.1     0.1425          0.2839           0.2414         0.1052              0.2597        0.09744                0.4956    1.156      3.445        27.23   0.00911       0.07458        0.05661      0.01867           0.05963     0.009208                            0.2575   \n",
              "\n",
              "                                                                                                                                                                                                                                                                                                                     normal_nucleoli  \\\n",
              "id       diagnosis radius_mean texture_mean perimeter_mean area_mean smoothness_mean compactness_mean concavity_mean concave points_mean symmetry_mean fractal_dimension_mean radius_se texture_se perimeter_se area_se smoothness_se compactness_se concavity_se concave points_se symmetry_se fractal_dimension_se  symmetry_worst   \n",
              "842302   M         17.99       10.38        122.8          1001      0.1184          0.2776           0.3001         0.1471              0.2419        0.07871                1.095     0.9053     8.589        153.4   0.006399      0.04904        0.05373      0.01587           0.03003     0.006193                      0.4601   \n",
              "842517   M         20.57       17.77        132.9          1326      0.08474         0.07864          0.0869         0.07017             0.1812        0.05667                0.5435    0.7339     3.398        74.08   0.005225      0.01308        0.0186       0.0134            0.01389     0.003532                       0.275   \n",
              "84300903 M         19.69       21.25        130            1203      0.1096          0.1599           0.1974         0.1279              0.2069        0.05999                0.7456    0.7869     4.585        94.03   0.00615       0.04006        0.03832      0.02058           0.0225      0.004571                      0.3613   \n",
              "84348301 M         11.42       20.38        77.58          386.1     0.1425          0.2839           0.2414         0.1052              0.2597        0.09744                0.4956    1.156      3.445        27.23   0.00911       0.07458        0.05661      0.01867           0.05963     0.009208                      0.6638   \n",
              "\n",
              "                                                                                                                                                                                                                                                                                                                                      mitoses  \\\n",
              "id       diagnosis radius_mean texture_mean perimeter_mean area_mean smoothness_mean compactness_mean concavity_mean concave points_mean symmetry_mean fractal_dimension_mean radius_se texture_se perimeter_se area_se smoothness_se compactness_se concavity_se concave points_se symmetry_se fractal_dimension_se  fractal_dimension_worst   \n",
              "842302   M         17.99       10.38        122.8          1001      0.1184          0.2776           0.3001         0.1471              0.2419        0.07871                1.095     0.9053     8.589        153.4   0.006399      0.04904        0.05373      0.01587           0.03003     0.006193                               0.1189   \n",
              "842517   M         20.57       17.77        132.9          1326      0.08474         0.07864          0.0869         0.07017             0.1812        0.05667                0.5435    0.7339     3.398        74.08   0.005225      0.01308        0.0186       0.0134            0.01389     0.003532                              0.08902   \n",
              "84300903 M         19.69       21.25        130            1203      0.1096          0.1599           0.1974         0.1279              0.2069        0.05999                0.7456    0.7869     4.585        94.03   0.00615       0.04006        0.03832      0.02058           0.0225      0.004571                              0.08758   \n",
              "84348301 M         11.42       20.38        77.58          386.1     0.1425          0.2839           0.2414         0.1052              0.2597        0.09744                0.4956    1.156      3.445        27.23   0.00911       0.07458        0.05661      0.01867           0.05963     0.009208                                0.173   \n",
              "\n",
              "                                                                                                                                                                                                                                                                                                                      class  \n",
              "id       diagnosis radius_mean texture_mean perimeter_mean area_mean smoothness_mean compactness_mean concavity_mean concave points_mean symmetry_mean fractal_dimension_mean radius_se texture_se perimeter_se area_se smoothness_se compactness_se concavity_se concave points_se symmetry_se fractal_dimension_se    NaN  \n",
              "842302   M         17.99       10.38        122.8          1001      0.1184          0.2776           0.3001         0.1471              0.2419        0.07871                1.095     0.9053     8.589        153.4   0.006399      0.04904        0.05373      0.01587           0.03003     0.006193                NaN  \n",
              "842517   M         20.57       17.77        132.9          1326      0.08474         0.07864          0.0869         0.07017             0.1812        0.05667                0.5435    0.7339     3.398        74.08   0.005225      0.01308        0.0186       0.0134            0.01389     0.003532                NaN  \n",
              "84300903 M         19.69       21.25        130            1203      0.1096          0.1599           0.1974         0.1279              0.2069        0.05999                0.7456    0.7869     4.585        94.03   0.00615       0.04006        0.03832      0.02058           0.0225      0.004571                NaN  \n",
              "84348301 M         11.42       20.38        77.58          386.1     0.1425          0.2839           0.2414         0.1052              0.2597        0.09744                0.4956    1.156      3.445        27.23   0.00911       0.07458        0.05661      0.01867           0.05963     0.009208                NaN  "
            ],
            "text/html": [
              "\n",
              "  <div id=\"df-54fd53f9-5dfc-49cc-9408-f221a5d16021\" class=\"colab-df-container\">\n",
              "    <div>\n",
              "<style scoped>\n",
              "    .dataframe tbody tr th:only-of-type {\n",
              "        vertical-align: middle;\n",
              "    }\n",
              "\n",
              "    .dataframe tbody tr th {\n",
              "        vertical-align: top;\n",
              "    }\n",
              "\n",
              "    .dataframe thead th {\n",
              "        text-align: right;\n",
              "    }\n",
              "</style>\n",
              "<table border=\"1\" class=\"dataframe\">\n",
              "  <thead>\n",
              "    <tr style=\"text-align: right;\">\n",
              "      <th></th>\n",
              "      <th></th>\n",
              "      <th></th>\n",
              "      <th></th>\n",
              "      <th></th>\n",
              "      <th></th>\n",
              "      <th></th>\n",
              "      <th></th>\n",
              "      <th></th>\n",
              "      <th></th>\n",
              "      <th></th>\n",
              "      <th></th>\n",
              "      <th></th>\n",
              "      <th></th>\n",
              "      <th></th>\n",
              "      <th></th>\n",
              "      <th></th>\n",
              "      <th></th>\n",
              "      <th></th>\n",
              "      <th></th>\n",
              "      <th></th>\n",
              "      <th></th>\n",
              "      <th>id</th>\n",
              "      <th>clump_thickness</th>\n",
              "      <th>un_cell_size</th>\n",
              "      <th>un_cell_shape</th>\n",
              "      <th>marginal_adheshion</th>\n",
              "      <th>single_eph_cell_size</th>\n",
              "      <th>bare_nuclei</th>\n",
              "      <th>bland_chromatin</th>\n",
              "      <th>normal_nucleoli</th>\n",
              "      <th>mitoses</th>\n",
              "      <th>class</th>\n",
              "    </tr>\n",
              "  </thead>\n",
              "  <tbody>\n",
              "    <tr>\n",
              "      <th>id</th>\n",
              "      <th>diagnosis</th>\n",
              "      <th>radius_mean</th>\n",
              "      <th>texture_mean</th>\n",
              "      <th>perimeter_mean</th>\n",
              "      <th>area_mean</th>\n",
              "      <th>smoothness_mean</th>\n",
              "      <th>compactness_mean</th>\n",
              "      <th>concavity_mean</th>\n",
              "      <th>concave points_mean</th>\n",
              "      <th>symmetry_mean</th>\n",
              "      <th>fractal_dimension_mean</th>\n",
              "      <th>radius_se</th>\n",
              "      <th>texture_se</th>\n",
              "      <th>perimeter_se</th>\n",
              "      <th>area_se</th>\n",
              "      <th>smoothness_se</th>\n",
              "      <th>compactness_se</th>\n",
              "      <th>concavity_se</th>\n",
              "      <th>concave points_se</th>\n",
              "      <th>symmetry_se</th>\n",
              "      <th>fractal_dimension_se</th>\n",
              "      <td>radius_worst</td>\n",
              "      <td>texture_worst</td>\n",
              "      <td>perimeter_worst</td>\n",
              "      <td>area_worst</td>\n",
              "      <td>smoothness_worst</td>\n",
              "      <td>compactness_worst</td>\n",
              "      <td>concavity_worst</td>\n",
              "      <td>concave points_worst</td>\n",
              "      <td>symmetry_worst</td>\n",
              "      <td>fractal_dimension_worst</td>\n",
              "      <td>NaN</td>\n",
              "    </tr>\n",
              "    <tr>\n",
              "      <th>842302</th>\n",
              "      <th>M</th>\n",
              "      <th>17.99</th>\n",
              "      <th>10.38</th>\n",
              "      <th>122.8</th>\n",
              "      <th>1001</th>\n",
              "      <th>0.1184</th>\n",
              "      <th>0.2776</th>\n",
              "      <th>0.3001</th>\n",
              "      <th>0.1471</th>\n",
              "      <th>0.2419</th>\n",
              "      <th>0.07871</th>\n",
              "      <th>1.095</th>\n",
              "      <th>0.9053</th>\n",
              "      <th>8.589</th>\n",
              "      <th>153.4</th>\n",
              "      <th>0.006399</th>\n",
              "      <th>0.04904</th>\n",
              "      <th>0.05373</th>\n",
              "      <th>0.01587</th>\n",
              "      <th>0.03003</th>\n",
              "      <th>0.006193</th>\n",
              "      <td>25.38</td>\n",
              "      <td>17.33</td>\n",
              "      <td>184.6</td>\n",
              "      <td>2019</td>\n",
              "      <td>0.1622</td>\n",
              "      <td>0.6656</td>\n",
              "      <td>0.7119</td>\n",
              "      <td>0.2654</td>\n",
              "      <td>0.4601</td>\n",
              "      <td>0.1189</td>\n",
              "      <td>NaN</td>\n",
              "    </tr>\n",
              "    <tr>\n",
              "      <th>842517</th>\n",
              "      <th>M</th>\n",
              "      <th>20.57</th>\n",
              "      <th>17.77</th>\n",
              "      <th>132.9</th>\n",
              "      <th>1326</th>\n",
              "      <th>0.08474</th>\n",
              "      <th>0.07864</th>\n",
              "      <th>0.0869</th>\n",
              "      <th>0.07017</th>\n",
              "      <th>0.1812</th>\n",
              "      <th>0.05667</th>\n",
              "      <th>0.5435</th>\n",
              "      <th>0.7339</th>\n",
              "      <th>3.398</th>\n",
              "      <th>74.08</th>\n",
              "      <th>0.005225</th>\n",
              "      <th>0.01308</th>\n",
              "      <th>0.0186</th>\n",
              "      <th>0.0134</th>\n",
              "      <th>0.01389</th>\n",
              "      <th>0.003532</th>\n",
              "      <td>24.99</td>\n",
              "      <td>23.41</td>\n",
              "      <td>158.8</td>\n",
              "      <td>1956</td>\n",
              "      <td>0.1238</td>\n",
              "      <td>0.1866</td>\n",
              "      <td>0.2416</td>\n",
              "      <td>0.186</td>\n",
              "      <td>0.275</td>\n",
              "      <td>0.08902</td>\n",
              "      <td>NaN</td>\n",
              "    </tr>\n",
              "    <tr>\n",
              "      <th>84300903</th>\n",
              "      <th>M</th>\n",
              "      <th>19.69</th>\n",
              "      <th>21.25</th>\n",
              "      <th>130</th>\n",
              "      <th>1203</th>\n",
              "      <th>0.1096</th>\n",
              "      <th>0.1599</th>\n",
              "      <th>0.1974</th>\n",
              "      <th>0.1279</th>\n",
              "      <th>0.2069</th>\n",
              "      <th>0.05999</th>\n",
              "      <th>0.7456</th>\n",
              "      <th>0.7869</th>\n",
              "      <th>4.585</th>\n",
              "      <th>94.03</th>\n",
              "      <th>0.00615</th>\n",
              "      <th>0.04006</th>\n",
              "      <th>0.03832</th>\n",
              "      <th>0.02058</th>\n",
              "      <th>0.0225</th>\n",
              "      <th>0.004571</th>\n",
              "      <td>23.57</td>\n",
              "      <td>25.53</td>\n",
              "      <td>152.5</td>\n",
              "      <td>1709</td>\n",
              "      <td>0.1444</td>\n",
              "      <td>0.4245</td>\n",
              "      <td>0.4504</td>\n",
              "      <td>0.243</td>\n",
              "      <td>0.3613</td>\n",
              "      <td>0.08758</td>\n",
              "      <td>NaN</td>\n",
              "    </tr>\n",
              "    <tr>\n",
              "      <th>84348301</th>\n",
              "      <th>M</th>\n",
              "      <th>11.42</th>\n",
              "      <th>20.38</th>\n",
              "      <th>77.58</th>\n",
              "      <th>386.1</th>\n",
              "      <th>0.1425</th>\n",
              "      <th>0.2839</th>\n",
              "      <th>0.2414</th>\n",
              "      <th>0.1052</th>\n",
              "      <th>0.2597</th>\n",
              "      <th>0.09744</th>\n",
              "      <th>0.4956</th>\n",
              "      <th>1.156</th>\n",
              "      <th>3.445</th>\n",
              "      <th>27.23</th>\n",
              "      <th>0.00911</th>\n",
              "      <th>0.07458</th>\n",
              "      <th>0.05661</th>\n",
              "      <th>0.01867</th>\n",
              "      <th>0.05963</th>\n",
              "      <th>0.009208</th>\n",
              "      <td>14.91</td>\n",
              "      <td>26.5</td>\n",
              "      <td>98.87</td>\n",
              "      <td>567.7</td>\n",
              "      <td>0.2098</td>\n",
              "      <td>0.8663</td>\n",
              "      <td>0.6869</td>\n",
              "      <td>0.2575</td>\n",
              "      <td>0.6638</td>\n",
              "      <td>0.173</td>\n",
              "      <td>NaN</td>\n",
              "    </tr>\n",
              "  </tbody>\n",
              "</table>\n",
              "</div>\n",
              "    <div class=\"colab-df-buttons\">\n",
              "\n",
              "  <div class=\"colab-df-container\">\n",
              "    <button class=\"colab-df-convert\" onclick=\"convertToInteractive('df-54fd53f9-5dfc-49cc-9408-f221a5d16021')\"\n",
              "            title=\"Convert this dataframe to an interactive table.\"\n",
              "            style=\"display:none;\">\n",
              "\n",
              "  <svg xmlns=\"http://www.w3.org/2000/svg\" height=\"24px\" viewBox=\"0 -960 960 960\">\n",
              "    <path d=\"M120-120v-720h720v720H120Zm60-500h600v-160H180v160Zm220 220h160v-160H400v160Zm0 220h160v-160H400v160ZM180-400h160v-160H180v160Zm440 0h160v-160H620v160ZM180-180h160v-160H180v160Zm440 0h160v-160H620v160Z\"/>\n",
              "  </svg>\n",
              "    </button>\n",
              "\n",
              "  <style>\n",
              "    .colab-df-container {\n",
              "      display:flex;\n",
              "      gap: 12px;\n",
              "    }\n",
              "\n",
              "    .colab-df-convert {\n",
              "      background-color: #E8F0FE;\n",
              "      border: none;\n",
              "      border-radius: 50%;\n",
              "      cursor: pointer;\n",
              "      display: none;\n",
              "      fill: #1967D2;\n",
              "      height: 32px;\n",
              "      padding: 0 0 0 0;\n",
              "      width: 32px;\n",
              "    }\n",
              "\n",
              "    .colab-df-convert:hover {\n",
              "      background-color: #E2EBFA;\n",
              "      box-shadow: 0px 1px 2px rgba(60, 64, 67, 0.3), 0px 1px 3px 1px rgba(60, 64, 67, 0.15);\n",
              "      fill: #174EA6;\n",
              "    }\n",
              "\n",
              "    .colab-df-buttons div {\n",
              "      margin-bottom: 4px;\n",
              "    }\n",
              "\n",
              "    [theme=dark] .colab-df-convert {\n",
              "      background-color: #3B4455;\n",
              "      fill: #D2E3FC;\n",
              "    }\n",
              "\n",
              "    [theme=dark] .colab-df-convert:hover {\n",
              "      background-color: #434B5C;\n",
              "      box-shadow: 0px 1px 3px 1px rgba(0, 0, 0, 0.15);\n",
              "      filter: drop-shadow(0px 1px 2px rgba(0, 0, 0, 0.3));\n",
              "      fill: #FFFFFF;\n",
              "    }\n",
              "  </style>\n",
              "\n",
              "    <script>\n",
              "      const buttonEl =\n",
              "        document.querySelector('#df-54fd53f9-5dfc-49cc-9408-f221a5d16021 button.colab-df-convert');\n",
              "      buttonEl.style.display =\n",
              "        google.colab.kernel.accessAllowed ? 'block' : 'none';\n",
              "\n",
              "      async function convertToInteractive(key) {\n",
              "        const element = document.querySelector('#df-54fd53f9-5dfc-49cc-9408-f221a5d16021');\n",
              "        const dataTable =\n",
              "          await google.colab.kernel.invokeFunction('convertToInteractive',\n",
              "                                                    [key], {});\n",
              "        if (!dataTable) return;\n",
              "\n",
              "        const docLinkHtml = 'Like what you see? Visit the ' +\n",
              "          '<a target=\"_blank\" href=https://colab.research.google.com/notebooks/data_table.ipynb>data table notebook</a>'\n",
              "          + ' to learn more about interactive tables.';\n",
              "        element.innerHTML = '';\n",
              "        dataTable['output_type'] = 'display_data';\n",
              "        await google.colab.output.renderOutput(dataTable, element);\n",
              "        const docLink = document.createElement('div');\n",
              "        docLink.innerHTML = docLinkHtml;\n",
              "        element.appendChild(docLink);\n",
              "      }\n",
              "    </script>\n",
              "  </div>\n",
              "\n",
              "\n",
              "<div id=\"df-3bd6adfe-3363-474a-a0ad-563f2bbba393\">\n",
              "  <button class=\"colab-df-quickchart\" onclick=\"quickchart('df-3bd6adfe-3363-474a-a0ad-563f2bbba393')\"\n",
              "            title=\"Suggest charts.\"\n",
              "            style=\"display:none;\">\n",
              "\n",
              "<svg xmlns=\"http://www.w3.org/2000/svg\" height=\"24px\"viewBox=\"0 0 24 24\"\n",
              "     width=\"24px\">\n",
              "    <g>\n",
              "        <path d=\"M19 3H5c-1.1 0-2 .9-2 2v14c0 1.1.9 2 2 2h14c1.1 0 2-.9 2-2V5c0-1.1-.9-2-2-2zM9 17H7v-7h2v7zm4 0h-2V7h2v10zm4 0h-2v-4h2v4z\"/>\n",
              "    </g>\n",
              "</svg>\n",
              "  </button>\n",
              "\n",
              "<style>\n",
              "  .colab-df-quickchart {\n",
              "      --bg-color: #E8F0FE;\n",
              "      --fill-color: #1967D2;\n",
              "      --hover-bg-color: #E2EBFA;\n",
              "      --hover-fill-color: #174EA6;\n",
              "      --disabled-fill-color: #AAA;\n",
              "      --disabled-bg-color: #DDD;\n",
              "  }\n",
              "\n",
              "  [theme=dark] .colab-df-quickchart {\n",
              "      --bg-color: #3B4455;\n",
              "      --fill-color: #D2E3FC;\n",
              "      --hover-bg-color: #434B5C;\n",
              "      --hover-fill-color: #FFFFFF;\n",
              "      --disabled-bg-color: #3B4455;\n",
              "      --disabled-fill-color: #666;\n",
              "  }\n",
              "\n",
              "  .colab-df-quickchart {\n",
              "    background-color: var(--bg-color);\n",
              "    border: none;\n",
              "    border-radius: 50%;\n",
              "    cursor: pointer;\n",
              "    display: none;\n",
              "    fill: var(--fill-color);\n",
              "    height: 32px;\n",
              "    padding: 0;\n",
              "    width: 32px;\n",
              "  }\n",
              "\n",
              "  .colab-df-quickchart:hover {\n",
              "    background-color: var(--hover-bg-color);\n",
              "    box-shadow: 0 1px 2px rgba(60, 64, 67, 0.3), 0 1px 3px 1px rgba(60, 64, 67, 0.15);\n",
              "    fill: var(--button-hover-fill-color);\n",
              "  }\n",
              "\n",
              "  .colab-df-quickchart-complete:disabled,\n",
              "  .colab-df-quickchart-complete:disabled:hover {\n",
              "    background-color: var(--disabled-bg-color);\n",
              "    fill: var(--disabled-fill-color);\n",
              "    box-shadow: none;\n",
              "  }\n",
              "\n",
              "  .colab-df-spinner {\n",
              "    border: 2px solid var(--fill-color);\n",
              "    border-color: transparent;\n",
              "    border-bottom-color: var(--fill-color);\n",
              "    animation:\n",
              "      spin 1s steps(1) infinite;\n",
              "  }\n",
              "\n",
              "  @keyframes spin {\n",
              "    0% {\n",
              "      border-color: transparent;\n",
              "      border-bottom-color: var(--fill-color);\n",
              "      border-left-color: var(--fill-color);\n",
              "    }\n",
              "    20% {\n",
              "      border-color: transparent;\n",
              "      border-left-color: var(--fill-color);\n",
              "      border-top-color: var(--fill-color);\n",
              "    }\n",
              "    30% {\n",
              "      border-color: transparent;\n",
              "      border-left-color: var(--fill-color);\n",
              "      border-top-color: var(--fill-color);\n",
              "      border-right-color: var(--fill-color);\n",
              "    }\n",
              "    40% {\n",
              "      border-color: transparent;\n",
              "      border-right-color: var(--fill-color);\n",
              "      border-top-color: var(--fill-color);\n",
              "    }\n",
              "    60% {\n",
              "      border-color: transparent;\n",
              "      border-right-color: var(--fill-color);\n",
              "    }\n",
              "    80% {\n",
              "      border-color: transparent;\n",
              "      border-right-color: var(--fill-color);\n",
              "      border-bottom-color: var(--fill-color);\n",
              "    }\n",
              "    90% {\n",
              "      border-color: transparent;\n",
              "      border-bottom-color: var(--fill-color);\n",
              "    }\n",
              "  }\n",
              "</style>\n",
              "\n",
              "  <script>\n",
              "    async function quickchart(key) {\n",
              "      const quickchartButtonEl =\n",
              "        document.querySelector('#' + key + ' button');\n",
              "      quickchartButtonEl.disabled = true;  // To prevent multiple clicks.\n",
              "      quickchartButtonEl.classList.add('colab-df-spinner');\n",
              "      try {\n",
              "        const charts = await google.colab.kernel.invokeFunction(\n",
              "            'suggestCharts', [key], {});\n",
              "      } catch (error) {\n",
              "        console.error('Error during call to suggestCharts:', error);\n",
              "      }\n",
              "      quickchartButtonEl.classList.remove('colab-df-spinner');\n",
              "      quickchartButtonEl.classList.add('colab-df-quickchart-complete');\n",
              "    }\n",
              "    (() => {\n",
              "      let quickchartButtonEl =\n",
              "        document.querySelector('#df-3bd6adfe-3363-474a-a0ad-563f2bbba393 button');\n",
              "      quickchartButtonEl.style.display =\n",
              "        google.colab.kernel.accessAllowed ? 'block' : 'none';\n",
              "    })();\n",
              "  </script>\n",
              "</div>\n",
              "    </div>\n",
              "  </div>\n"
            ]
          },
          "metadata": {},
          "execution_count": 4
        }
      ],
      "source": [
        "df.head()"
      ]
    },
    {
      "cell_type": "markdown",
      "metadata": {
        "id": "NvvbnFL36L85"
      },
      "source": [
        "We have to do some preprocessing on the data. We first pop the id column since it is of no use for our problem at hand."
      ]
    },
    {
      "cell_type": "code",
      "execution_count": 5,
      "metadata": {
        "id": "nDeXwHdA5uUN",
        "colab": {
          "base_uri": "https://localhost:8080/"
        },
        "outputId": "fbcdc3e9-9cf0-466d-8d1c-349b2248d8c6"
      },
      "outputs": [
        {
          "output_type": "execute_result",
          "data": {
            "text/plain": [
              "id        diagnosis  radius_mean  texture_mean  perimeter_mean  area_mean  smoothness_mean  compactness_mean  concavity_mean  concave points_mean  symmetry_mean  fractal_dimension_mean  radius_se  texture_se  perimeter_se  area_se  smoothness_se  compactness_se  concavity_se  concave points_se  symmetry_se  fractal_dimension_se    radius_worst\n",
              "842302    M          17.99        10.38         122.8           1001       0.1184           0.2776            0.3001          0.1471               0.2419         0.07871                 1.095      0.9053      8.589         153.4    0.006399       0.04904         0.05373       0.01587            0.03003      0.006193                       25.38\n",
              "842517    M          20.57        17.77         132.9           1326       0.08474          0.07864           0.0869          0.07017              0.1812         0.05667                 0.5435     0.7339      3.398         74.08    0.005225       0.01308         0.0186        0.0134             0.01389      0.003532                       24.99\n",
              "84300903  M          19.69        21.25         130             1203       0.1096           0.1599            0.1974          0.1279               0.2069         0.05999                 0.7456     0.7869      4.585         94.03    0.00615        0.04006         0.03832       0.02058            0.0225       0.004571                       23.57\n",
              "84348301  M          11.42        20.38         77.58           386.1      0.1425           0.2839            0.2414          0.1052               0.2597         0.09744                 0.4956     1.156       3.445         27.23    0.00911        0.07458         0.05661       0.01867            0.05963      0.009208                       14.91\n",
              "                                                                                                                                                                                                                                                                                                                                                 ...     \n",
              "926424    M          21.56        22.39         142             1479       0.111            0.1159            0.2439          0.1389               0.1726         0.05623                 1.176      1.256       7.673         158.7    0.0103         0.02891         0.05198       0.02454            0.01114      0.004239                       25.45\n",
              "926682    M          20.13        28.25         131.2           1261       0.0978           0.1034            0.144           0.09791              0.1752         0.05533                 0.7655     2.463       5.203         99.04    0.005769       0.02423         0.0395        0.01678            0.01898      0.002498                       23.69\n",
              "926954    M          16.6         28.08         108.3           858.1      0.08455          0.1023            0.09251         0.05302              0.159          0.05648                 0.4564     1.075       3.425         48.55    0.005903       0.03731         0.0473        0.01557            0.01318      0.003892                       18.98\n",
              "927241    M          20.6         29.33         140.1           1265       0.1178           0.277             0.3514          0.152                0.2397         0.07016                 0.726      1.595       5.772         86.22    0.006522       0.06158         0.07117       0.01664            0.02324      0.006185                       25.74\n",
              "92751     B          7.76         24.54         47.92           181        0.05263          0.04362           0               0                    0.1587         0.05884                 0.3857     1.428       2.548         19.15    0.007189       0.00466         0             0                  0.02676      0.002783                       9.456\n",
              "Name: id, Length: 570, dtype: object"
            ]
          },
          "metadata": {},
          "execution_count": 5
        }
      ],
      "source": [
        "df.pop(\"id\")"
      ]
    },
    {
      "cell_type": "markdown",
      "metadata": {
        "id": "ubw5LueA6ZEY"
      },
      "source": [
        "Upon inspection of data, you can see that some values of the **bare_nuclei** column are unknown. We drop the rows with these unknown values. We also convert the **bare_nuclei** column to numeric. This is required for training the model."
      ]
    },
    {
      "cell_type": "code",
      "execution_count": 6,
      "metadata": {
        "id": "MCcOrl1ITVhr",
        "colab": {
          "base_uri": "https://localhost:8080/",
          "height": 303
        },
        "outputId": "e58df57c-845e-4411-d02b-ef6d089ac29f"
      },
      "outputs": [
        {
          "output_type": "error",
          "ename": "ValueError",
          "evalue": "ignored",
          "traceback": [
            "\u001b[0;31m---------------------------------------------------------------------------\u001b[0m",
            "\u001b[0;31mValueError\u001b[0m                                Traceback (most recent call last)",
            "\u001b[0;32m/usr/local/lib/python3.10/dist-packages/pandas/_libs/lib.pyx\u001b[0m in \u001b[0;36mpandas._libs.lib.maybe_convert_numeric\u001b[0;34m()\u001b[0m\n",
            "\u001b[0;31mValueError\u001b[0m: Unable to parse string \"concavity_worst\"",
            "\nDuring handling of the above exception, another exception occurred:\n",
            "\u001b[0;31mValueError\u001b[0m                                Traceback (most recent call last)",
            "\u001b[0;32m<ipython-input-6-20cbe26a5d65>\u001b[0m in \u001b[0;36m<cell line: 2>\u001b[0;34m()\u001b[0m\n\u001b[1;32m      1\u001b[0m \u001b[0mdf\u001b[0m \u001b[0;34m=\u001b[0m \u001b[0mdf\u001b[0m\u001b[0;34m[\u001b[0m\u001b[0mdf\u001b[0m\u001b[0;34m[\u001b[0m\u001b[0;34m\"bare_nuclei\"\u001b[0m\u001b[0;34m]\u001b[0m \u001b[0;34m!=\u001b[0m \u001b[0;34m'?'\u001b[0m \u001b[0;34m]\u001b[0m\u001b[0;34m\u001b[0m\u001b[0;34m\u001b[0m\u001b[0m\n\u001b[0;32m----> 2\u001b[0;31m \u001b[0mdf\u001b[0m\u001b[0;34m.\u001b[0m\u001b[0mbare_nuclei\u001b[0m \u001b[0;34m=\u001b[0m \u001b[0mpd\u001b[0m\u001b[0;34m.\u001b[0m\u001b[0mto_numeric\u001b[0m\u001b[0;34m(\u001b[0m\u001b[0mdf\u001b[0m\u001b[0;34m.\u001b[0m\u001b[0mbare_nuclei\u001b[0m\u001b[0;34m)\u001b[0m\u001b[0;34m\u001b[0m\u001b[0;34m\u001b[0m\u001b[0m\n\u001b[0m",
            "\u001b[0;32m/usr/local/lib/python3.10/dist-packages/pandas/core/tools/numeric.py\u001b[0m in \u001b[0;36mto_numeric\u001b[0;34m(arg, errors, downcast)\u001b[0m\n\u001b[1;32m    183\u001b[0m         \u001b[0mcoerce_numeric\u001b[0m \u001b[0;34m=\u001b[0m \u001b[0merrors\u001b[0m \u001b[0;32mnot\u001b[0m \u001b[0;32min\u001b[0m \u001b[0;34m(\u001b[0m\u001b[0;34m\"ignore\"\u001b[0m\u001b[0;34m,\u001b[0m \u001b[0;34m\"raise\"\u001b[0m\u001b[0;34m)\u001b[0m\u001b[0;34m\u001b[0m\u001b[0;34m\u001b[0m\u001b[0m\n\u001b[1;32m    184\u001b[0m         \u001b[0;32mtry\u001b[0m\u001b[0;34m:\u001b[0m\u001b[0;34m\u001b[0m\u001b[0;34m\u001b[0m\u001b[0m\n\u001b[0;32m--> 185\u001b[0;31m             values, _ = lib.maybe_convert_numeric(\n\u001b[0m\u001b[1;32m    186\u001b[0m                 \u001b[0mvalues\u001b[0m\u001b[0;34m,\u001b[0m \u001b[0mset\u001b[0m\u001b[0;34m(\u001b[0m\u001b[0;34m)\u001b[0m\u001b[0;34m,\u001b[0m \u001b[0mcoerce_numeric\u001b[0m\u001b[0;34m=\u001b[0m\u001b[0mcoerce_numeric\u001b[0m\u001b[0;34m\u001b[0m\u001b[0;34m\u001b[0m\u001b[0m\n\u001b[1;32m    187\u001b[0m             )\n",
            "\u001b[0;32m/usr/local/lib/python3.10/dist-packages/pandas/_libs/lib.pyx\u001b[0m in \u001b[0;36mpandas._libs.lib.maybe_convert_numeric\u001b[0;34m()\u001b[0m\n",
            "\u001b[0;31mValueError\u001b[0m: Unable to parse string \"concavity_worst\" at position 0"
          ]
        }
      ],
      "source": [
        "df = df[df[\"bare_nuclei\"] != '?' ]\n",
        "df.bare_nuclei = pd.to_numeric(df.bare_nuclei)"
      ]
    },
    {
      "cell_type": "markdown",
      "metadata": {
        "id": "UQMhcTQG7LzY"
      },
      "source": [
        "We check the class distribution of the data. You can see that there are two classes, 2.0 and 4.0\n",
        "According to the dataset:\n",
        "* **2.0 = benign**\n",
        "* **4.0 = malignant**\n"
      ]
    },
    {
      "cell_type": "code",
      "execution_count": 7,
      "metadata": {
        "id": "SaAdQrBv8daS",
        "colab": {
          "base_uri": "https://localhost:8080/",
          "height": 447
        },
        "outputId": "e6f0134d-5748-4474-df3c-e66069efa3ea"
      },
      "outputs": [
        {
          "output_type": "execute_result",
          "data": {
            "text/plain": [
              "<Axes: >"
            ]
          },
          "metadata": {},
          "execution_count": 7
        },
        {
          "output_type": "display_data",
          "data": {
            "text/plain": [
              "<Figure size 640x480 with 1 Axes>"
            ],
            "image/png": "[encoded data removed]"
          },
          "metadata": {}
        }
      ],
      "source": [
        "df['class'].hist(bins=20)"
      ]
    },
    {
      "cell_type": "markdown",
      "metadata": {
        "id": "ENjMKvxQ6sWy"
      },
      "source": [
        "We are going to model this problem as a binary classification problem which detects whether the tumor is malignant or not. Hence, we change the dataset so that:\n",
        "* **benign(2.0) = 0**\n",
        "* **malignant(4.0) = 1**"
      ]
    },
    {
      "cell_type": "code",
      "execution_count": 8,
      "metadata": {
        "id": "1MVzeUwf_A3E",
        "lines_to_next_cell": 2
      },
      "outputs": [],
      "source": [
        "df['class'] = np.where(df['class'] == 2, 0, 1)"
      ]
    },
    {
      "cell_type": "markdown",
      "metadata": {
        "id": "EGbKO1bR8S9h"
      },
      "source": [
        "We then split the dataset into training and testing sets. Since the number of samples is small, we will perform validation on the test set."
      ]
    },
    {
      "cell_type": "code",
      "execution_count": 9,
      "metadata": {
        "id": "aNUy7JcuAXjC"
      },
      "outputs": [],
      "source": [
        "train, test = train_test_split(df, test_size = 0.2)"
      ]
    },
    {
      "cell_type": "markdown",
      "metadata": {
        "id": "H_ZKokUP8kP3"
      },
      "source": [
        "We get the statistics for training. We can look at statistics to get an idea about the distribution of plots. If you need more visualization, you can create additional data plots. We will also be using the mean and standard deviation from statistics for normalizing the data"
      ]
    },
    {
      "cell_type": "code",
      "execution_count": 10,
      "metadata": {
        "id": "k86tBT_QAm2P"
      },
      "outputs": [],
      "source": [
        "train_stats = train.describe()\n",
        "train_stats.pop('class')\n",
        "train_stats = train_stats.transpose()"
      ]
    },
    {
      "cell_type": "markdown",
      "metadata": {
        "id": "l8AJ0Crc8u9t"
      },
      "source": [
        "We pop the class column from the training and test sets to create train and test outputs."
      ]
    },
    {
      "cell_type": "code",
      "execution_count": 11,
      "metadata": {
        "id": "V7EGUV-tA5LZ"
      },
      "outputs": [],
      "source": [
        "train_Y = train.pop(\"class\")\n",
        "test_Y = test.pop(\"class\")"
      ]
    },
    {
      "cell_type": "markdown",
      "metadata": {
        "id": "N9wVRO5E9AgA"
      },
      "source": [
        "Here we normalize the data by using the formula: **X = (X - mean(X)) / StandardDeviation(X)**"
      ]
    },
    {
      "cell_type": "code",
      "execution_count": 12,
      "metadata": {
        "id": "NDo__q_AA3j0"
      },
      "outputs": [],
      "source": [
        "def norm(x):\n",
        "    return (x - train_stats['mean']) / train_stats['std']"
      ]
    },
    {
      "cell_type": "code",
      "execution_count": 13,
      "metadata": {
        "id": "pdARlWaDA_8G"
      },
      "outputs": [],
      "source": [
        "norm_train_X = norm(train)\n",
        "norm_test_X = norm(test)"
      ]
    },
    {
      "cell_type": "markdown",
      "metadata": {
        "id": "P6LIVZbj9Usv"
      },
      "source": [
        "We now create Tensorflow datasets for training and test sets to easily be able to build and manage an input pipeline for our model."
      ]
    },
    {
      "cell_type": "code",
      "execution_count": null,
      "metadata": {
        "id": "1S0RtsP1Xsj8"
      },
      "outputs": [],
      "source": [
        "train_dataset = tf.data.Dataset.from_tensor_slices((norm_train_X.values, train_Y.values))\n",
        "test_dataset = tf.data.Dataset.from_tensor_slices((norm_test_X.values, test_Y.values))"
      ]
    },
    {
      "cell_type": "markdown",
      "metadata": {
        "id": "-Nb44PpV9hR4"
      },
      "source": [
        "We shuffle and prepare a batched dataset to be used for training in our custom training loop."
      ]
    },
    {
      "cell_type": "code",
      "execution_count": null,
      "metadata": {
        "id": "h9qdsNPen5-F"
      },
      "outputs": [],
      "source": [
        "batch_size = 32\n",
        "train_dataset = train_dataset.shuffle(buffer_size=len(train)).batch(batch_size)\n",
        "\n",
        "test_dataset =  test_dataset.batch(batch_size=batch_size)"
      ]
    },
    {
      "cell_type": "code",
      "execution_count": null,
      "metadata": {
        "id": "qz5OiV_zQVL5"
      },
      "outputs": [],
      "source": [
        "a = enumerate(train_dataset)\n",
        "\n",
        "print(len(list(a)))"
      ]
    },
    {
      "cell_type": "markdown",
      "metadata": {
        "id": "GcbOJ6C79qT5"
      },
      "source": [
        "## Define the Model\n",
        "\n",
        "Now we will define the model. Here, we use the Keras Functional API to create a simple network of two `Dense` layers. We have modelled the problem as a binary classification problem and hence we add a single layer with sigmoid activation as the final layer of the model."
      ]
    },
    {
      "cell_type": "code",
      "execution_count": null,
      "metadata": {
        "id": "HU3qcM9WBcMh"
      },
      "outputs": [],
      "source": [
        "def base_model():\n",
        "    inputs = tf.keras.layers.Input(shape=(len(train.columns)))\n",
        "\n",
        "    x = tf.keras.layers.Dense(128, activation='relu')(inputs)\n",
        "    x = tf.keras.layers.Dense(64, activation='relu')(x)\n",
        "    outputs = tf.keras.layers.Dense(1, activation='sigmoid')(x)\n",
        "    model = tf.keras.Model(inputs=inputs, outputs=outputs)\n",
        "    return model\n",
        "\n",
        "model = base_model()"
      ]
    },
    {
      "cell_type": "markdown",
      "metadata": {
        "id": "NBhKIcKQ-Bwe"
      },
      "source": [
        "## Define Optimizer and Loss\n",
        "\n",
        "We use RMSprop optimizer and binary crossentropy as our loss function."
      ]
    },
    {
      "cell_type": "code",
      "execution_count": null,
      "metadata": {
        "id": "v5B3vh6fs84i"
      },
      "outputs": [],
      "source": [
        "optimizer = tf.keras.optimizers.RMSprop(learning_rate=0.001)\n",
        "loss_object = tf.keras.losses.BinaryCrossentropy()"
      ]
    },
    {
      "cell_type": "markdown",
      "metadata": {
        "id": "YSNDewgovSZ8"
      },
      "source": [
        "## Evaluate Untrained Model\n",
        "We calculate the loss on the model before training begins."
      ]
    },
    {
      "cell_type": "code",
      "execution_count": null,
      "metadata": {
        "id": "TUScS3GbtPXt"
      },
      "outputs": [],
      "source": [
        "outputs = model(norm_test_X.values)\n",
        "loss_value = loss_object(y_true=test_Y.values, y_pred=outputs)\n",
        "print(\"Loss before training %.4f\" % loss_value.numpy())"
      ]
    },
    {
      "cell_type": "markdown",
      "metadata": {
        "id": "jPPb5ewkzMBY"
      },
      "source": [
        "We also plot the confusion matrix to visualize the true outputs against the outputs predicted by the model."
      ]
    },
    {
      "cell_type": "code",
      "execution_count": null,
      "metadata": {
        "id": "ueenYwWZvQM_"
      },
      "outputs": [],
      "source": [
        "def plot_confusion_matrix(y_true, y_pred, title='', labels=[0,1]):\n",
        "    cm = confusion_matrix(y_true, y_pred)\n",
        "    fig = plt.figure()\n",
        "    ax = fig.add_subplot(111)\n",
        "    cax = ax.matshow(cm)\n",
        "    plt.title(title)\n",
        "    fig.colorbar(cax)\n",
        "    ax.set_xticklabels([''] + labels)\n",
        "    ax.set_yticklabels([''] + labels)\n",
        "    plt.xlabel('Predicted')\n",
        "    plt.ylabel('True')\n",
        "    fmt = 'd'\n",
        "    thresh = cm.max() / 2.\n",
        "    for i, j in itertools.product(range(cm.shape[0]), range(cm.shape[1])):\n",
        "          plt.text(j, i, format(cm[i, j], fmt),\n",
        "                  horizontalalignment=\"center\",\n",
        "                  color=\"black\" if cm[i, j] > thresh else \"white\")\n",
        "    plt.show()"
      ]
    },
    {
      "cell_type": "code",
      "execution_count": null,
      "metadata": {
        "id": "FApnBUNWv-ZR"
      },
      "outputs": [],
      "source": [
        "plot_confusion_matrix(test_Y.values, tf.round(outputs), title='Confusion Matrix for Untrained Model')"
      ]
    },
    {
      "cell_type": "markdown",
      "metadata": {
        "id": "7-HTkbQb-gYp"
      },
      "source": [
        "## Define Metrics (Please complete this section)"
      ]
    },
    {
      "cell_type": "markdown",
      "metadata": {
        "id": "AYUyRka1-j87"
      },
      "source": [
        "### Define Custom F1Score Metric\n",
        "In this example, we will define a custom F1Score metric using the formula.\n",
        "\n",
        "**F1 Score = 2 * ((precision * recall) / (precision + recall))**\n",
        "\n",
        "**precision = true_positives / (true_positives + false_positives)**\n",
        "\n",
        "**recall = true_positives / (true_positives + false_negatives)**\n",
        "\n",
        "We use `confusion_matrix` defined in `tf.math` to calculate precision and recall.\n",
        "\n",
        "Here you can see that we have subclassed `tf.keras.Metric` and implemented the three required methods `update_state`, `result` and `reset_states`.\n",
        "\n",
        "### Please complete the result() method:"
      ]
    },
    {
      "cell_type": "code",
      "execution_count": null,
      "metadata": {
        "id": "PdUe6cqvbzXy"
      },
      "outputs": [],
      "source": [
        "class F1Score(tf.keras.metrics.Metric):\n",
        "\n",
        "    def __init__(self, name='f1_score', **kwargs):\n",
        "        '''initializes attributes of the class'''\n",
        "\n",
        "        # call the parent class init\n",
        "        super(F1Score, self).__init__(name=name, **kwargs)\n",
        "\n",
        "        # Initialize Required variables\n",
        "        # true positives\n",
        "        self.tp = tf.Variable(0, dtype = 'int32')\n",
        "        # false positives\n",
        "        self.fp = tf.Variable(0, dtype = 'int32')\n",
        "        # true negatives\n",
        "        self.tn = tf.Variable(0, dtype = 'int32')\n",
        "        # false negatives\n",
        "        self.fn = tf.Variable(0, dtype = 'int32')\n",
        "\n",
        "    def update_state(self, y_true, y_pred, sample_weight=None):\n",
        "        '''\n",
        "        Accumulates statistics for the metric\n",
        "\n",
        "        Args:\n",
        "            y_true: target values from the test data\n",
        "            y_pred: predicted values by the model\n",
        "        '''\n",
        "\n",
        "        # Calulcate confusion matrix.\n",
        "        conf_matrix = tf.math.confusion_matrix(y_true, y_pred, num_classes=2)\n",
        "\n",
        "        # Update values of true positives, true negatives, false positives and false negatives from confusion matrix.\n",
        "        self.tn.assign_add(conf_matrix[0][0])\n",
        "        self.tp.assign_add(conf_matrix[1][1])\n",
        "        self.fp.assign_add(conf_matrix[0][1])\n",
        "        self.fn.assign_add(conf_matrix[1][0])\n",
        "\n",
        "    def result(self):\n",
        "        '''Computes and returns the metric value tensor.'''\n",
        "\n",
        "        # Calculate precision\n",
        "        if (self.tp + self.fp == 0):\n",
        "            precision = 1.0\n",
        "        else:\n",
        "            precision = self.tp / (self.tp + self.fp)\n",
        "\n",
        "        # Calculate recall\n",
        "        if (self.tp + self.fn == 0):\n",
        "            recall = 1.0\n",
        "        else:\n",
        "            recall = self.tp / (self.tp + self.fn)\n",
        "\n",
        "        # Return F1 Score\n",
        "        ### START CODE HERE ###\n",
        "        f1_score = 2 * ((precision * recall) / (precision + recall))\n",
        "        ### END CODE HERE ###\n",
        "\n",
        "        return f1_score\n",
        "\n",
        "    def reset_states(self):\n",
        "        '''Resets all of the metric state variables.'''\n",
        "\n",
        "        # The state of the metric will be reset at the start of each epoch.\n",
        "        self.tp.assign(0)\n",
        "        self.tn.assign(0)\n",
        "        self.fp.assign(0)\n",
        "        self.fn.assign(0)\n"
      ]
    },
    {
      "cell_type": "code",
      "execution_count": null,
      "metadata": {
        "id": "-RpafCy3QVMO"
      },
      "outputs": [],
      "source": [
        "# Test Code:\n",
        "\n",
        "test_F1Score = F1Score()\n",
        "\n",
        "test_F1Score.tp = tf.Variable(2, dtype = 'int32')\n",
        "test_F1Score.fp = tf.Variable(5, dtype = 'int32')\n",
        "test_F1Score.tn = tf.Variable(7, dtype = 'int32')\n",
        "test_F1Score.fn = tf.Variable(9, dtype = 'int32')\n",
        "test_F1Score.result()\n"
      ]
    },
    {
      "cell_type": "markdown",
      "metadata": {
        "id": "crA-pQWIQVMO"
      },
      "source": [
        "**Expected Output:**\n",
        "\n",
        "```txt\n",
        "<tf.Tensor: shape=(), dtype=float64, numpy=0.2222222222222222>\n",
        "```"
      ]
    },
    {
      "cell_type": "markdown",
      "metadata": {
        "id": "xiTa2CePAOTa"
      },
      "source": [
        "We initialize the seprate metrics required for training and validation. In addition to our custom F1Score metric, we are also using `BinaryAccuracy` defined in `tf.keras.metrics`"
      ]
    },
    {
      "cell_type": "code",
      "execution_count": null,
      "metadata": {
        "id": "7Pa_x-5-CH_V"
      },
      "outputs": [],
      "source": [
        "train_f1score_metric = F1Score()\n",
        "val_f1score_metric = F1Score()\n",
        "\n",
        "train_acc_metric = tf.keras.metrics.BinaryAccuracy()\n",
        "val_acc_metric = tf.keras.metrics.BinaryAccuracy()"
      ]
    },
    {
      "cell_type": "markdown",
      "metadata": {
        "id": "1huOxRpEAxvf"
      },
      "source": [
        "## Apply Gradients (Please complete this section)\n",
        "\n",
        "The core of training is using the model to calculate the logits on specific set of inputs and compute the loss(in this case **binary crossentropy**) by comparing the predicted outputs to the true outputs. We then update the trainable weights using the optimizer algorithm chosen. The optimizer algorithm requires our computed loss and partial derivatives of loss with respect to each of the trainable weights to make updates to the same.\n",
        "\n",
        "We use gradient tape to calculate the gradients and then update the model trainable weights using the optimizer.\n",
        "\n",
        "### Please complete the following function:"
      ]
    },
    {
      "cell_type": "code",
      "execution_count": null,
      "metadata": {
        "id": "MMPe25Dstn0v"
      },
      "outputs": [],
      "source": [
        "def apply_gradient(optimizer, loss_object, model, x, y):\n",
        "    '''\n",
        "    applies the gradients to the trainable model weights\n",
        "\n",
        "    Args:\n",
        "        optimizer: optimizer to update model weights\n",
        "        loss_object: type of loss to measure during training\n",
        "        model: the model we are training\n",
        "        x: input data to the model\n",
        "        y: target values for each input\n",
        "    '''\n",
        "\n",
        "    with tf.GradientTape() as tape:\n",
        "    ### START CODE HERE ###\n",
        "        logits = model(x)\n",
        "        loss_value = loss_object(y_true=y, y_pred=logits)\n",
        "\n",
        "    gradients = tape.gradient(loss_value, model.trainable_weights)\n",
        "    optimizer.apply_gradients(zip(gradients, model.trainable_weights))\n",
        "    ### END CODE HERE ###\n",
        "\n",
        "    return logits, loss_value"
      ]
    },
    {
      "cell_type": "code",
      "execution_count": null,
      "metadata": {
        "id": "NJl6OX13QVMQ"
      },
      "outputs": [],
      "source": [
        "# Test Code:\n",
        "\n",
        "test_model = tf.keras.models.load_model('./test_model')\n",
        "test_logits, test_loss = apply_gradient(optimizer, loss_object, test_model, norm_test_X.values, test_Y.values)\n",
        "\n",
        "print(test_logits.numpy()[:8])\n",
        "print(test_loss.numpy())\n",
        "\n",
        "del test_model\n",
        "del test_logits\n",
        "del test_loss"
      ]
    },
    {
      "cell_type": "markdown",
      "metadata": {
        "id": "6nxWKOazQVMR"
      },
      "source": [
        "**Expected Output:**\n",
        "\n",
        "The output will be close to these values:\n",
        "```txt\n",
        "[[0.5516499 ]\n",
        " [0.52124363]\n",
        " [0.5412698 ]\n",
        " [0.54203206]\n",
        " [0.50022954]\n",
        " [0.5459626 ]\n",
        " [0.47841492]\n",
        " [0.54381996]]\n",
        "0.7030578\n",
        "```"
      ]
    },
    {
      "cell_type": "markdown",
      "metadata": {
        "id": "JYM6GZPjB40r"
      },
      "source": [
        "## Training Loop (Please complete this section)\n",
        "\n",
        "This function performs training during one epoch. We run through all batches of training data in each epoch to make updates to trainable weights using our previous function.\n",
        "You can see that we also call `update_state` on our metrics to accumulate the value of our metrics.\n",
        "\n",
        "We are displaying a progress bar to indicate completion of training in each epoch. Here we use `tqdm` for displaying the progress bar.\n",
        "\n",
        "### Please complete the following function:"
      ]
    },
    {
      "cell_type": "code",
      "execution_count": null,
      "metadata": {
        "id": "3fHoh_hgz2PC"
      },
      "outputs": [],
      "source": [
        "def train_data_for_one_epoch(train_dataset, optimizer, loss_object, model,\n",
        "                             train_acc_metric, train_f1score_metric, verbose=True):\n",
        "    '''\n",
        "    Computes the loss then updates the weights and metrics for one epoch.\n",
        "\n",
        "    Args:\n",
        "        train_dataset: the training dataset\n",
        "        optimizer: optimizer to update model weights\n",
        "        loss_object: type of loss to measure during training\n",
        "        model: the model we are training\n",
        "        train_acc_metric: calculates how often predictions match labels\n",
        "        train_f1score_metric: custom metric we defined earlier\n",
        "    '''\n",
        "    losses = []\n",
        "\n",
        "    #Iterate through all batches of training data\n",
        "    for step, (x_batch_train, y_batch_train) in enumerate(train_dataset):\n",
        "\n",
        "        #Calculate loss and update trainable variables using optimizer\n",
        "        ### START CODE HERE ###\n",
        "        logits, loss_value = apply_gradient(optimizer, loss_object, model, x_batch_train, y_batch_train)\n",
        "        losses.append(loss_value)\n",
        "        ### END CODE HERE ###\n",
        "\n",
        "        #Round off logits to nearest integer and cast to integer for calulating metrics\n",
        "        logits = tf.round(logits)\n",
        "        logits = tf.cast(logits, 'int64')\n",
        "\n",
        "        #Update the training metrics\n",
        "        ### START CODE HERE ###\n",
        "        train_acc_metric.update_state(y_batch_train, logits)\n",
        "        train_f1score_metric.update_state(y_batch_train, logits)\n",
        "        ### END CODE HERE ###\n",
        "\n",
        "        #Update progress\n",
        "        if verbose:\n",
        "            print(\"Training loss for step %s: %.4f\" % (int(step), float(loss_value)))\n",
        "\n",
        "    return losses"
      ]
    },
    {
      "cell_type": "code",
      "execution_count": null,
      "metadata": {
        "id": "NvoQcB9cQVMS"
      },
      "outputs": [],
      "source": [
        "# TEST CODE\n",
        "\n",
        "test_model = tf.keras.models.load_model('./test_model')\n",
        "\n",
        "test_losses = train_data_for_one_epoch(train_dataset, optimizer, loss_object, test_model,\n",
        "                             train_acc_metric, train_f1score_metric, verbose=False)\n",
        "\n",
        "for test_loss in test_losses:\n",
        "    print(test_loss.numpy())\n",
        "\n",
        "del test_model\n",
        "del test_losses"
      ]
    },
    {
      "cell_type": "markdown",
      "metadata": {
        "id": "f2FW2U9lQVMT"
      },
      "source": [
        "**Expected Output:**\n",
        "\n",
        "The losses should generally be decreasing and will start from around 0.75. For example:\n",
        "\n",
        "```\n",
        "0.7600615\n",
        "0.6092045\n",
        "0.5525634\n",
        "0.4358902\n",
        "0.4765755\n",
        "0.43327087\n",
        "0.40585428\n",
        "0.32855004\n",
        "0.35755336\n",
        "0.3651728\n",
        "0.33971977\n",
        "0.27372319\n",
        "0.25026917\n",
        "0.29229593\n",
        "0.242178\n",
        "0.20602849\n",
        "0.15887335\n",
        "0.090397514\n",
        "```"
      ]
    },
    {
      "cell_type": "markdown",
      "metadata": {
        "id": "d9RJq8BLCsSF"
      },
      "source": [
        "At the end of each epoch, we have to validate the model on the test dataset. The following function calculates the loss on test dataset and updates the states of the validation metrics."
      ]
    },
    {
      "cell_type": "code",
      "execution_count": null,
      "metadata": {
        "id": "5gLJyAJE0YRc"
      },
      "outputs": [],
      "source": [
        "def perform_validation():\n",
        "    losses = []\n",
        "\n",
        "    #Iterate through all batches of validation data.\n",
        "    for x_val, y_val in test_dataset:\n",
        "\n",
        "        #Calculate validation loss for current batch.\n",
        "        val_logits = model(x_val)\n",
        "        val_loss = loss_object(y_true=y_val, y_pred=val_logits)\n",
        "        losses.append(val_loss)\n",
        "\n",
        "        #Round off and cast outputs to either  or 1\n",
        "        val_logits = tf.cast(tf.round(model(x_val)), 'int64')\n",
        "\n",
        "        #Update validation metrics\n",
        "        val_acc_metric.update_state(y_val, val_logits)\n",
        "        val_f1score_metric.update_state(y_val, val_logits)\n",
        "\n",
        "    return losses"
      ]
    },
    {
      "cell_type": "markdown",
      "metadata": {
        "id": "DLymSCkUC-CL"
      },
      "source": [
        "Next we define the training loop that runs through the training samples repeatedly over a fixed number of epochs. Here we combine the functions we built earlier to establish the following flow:\n",
        "1. Perform training over all batches of training data.\n",
        "2. Get values of metrics.\n",
        "3. Perform validation to calculate loss and update validation metrics on test data.\n",
        "4. Reset the metrics at the end of epoch.\n",
        "5. Display statistics at the end of each epoch.\n",
        "\n",
        "**Note** : We also calculate the training and validation losses for the whole epoch at the end of the epoch."
      ]
    },
    {
      "cell_type": "code",
      "execution_count": null,
      "metadata": {
        "id": "OOO1x3VyuPUV"
      },
      "outputs": [],
      "source": [
        "# Iterate over epochs.\n",
        "epochs = 5\n",
        "epochs_val_losses, epochs_train_losses = [], []\n",
        "\n",
        "for epoch in range(epochs):\n",
        "    print('Start of epoch %d' % (epoch,))\n",
        "    #Perform Training over all batches of train data\n",
        "    losses_train = train_data_for_one_epoch(train_dataset, optimizer, loss_object, model, train_acc_metric, train_f1score_metric)\n",
        "\n",
        "    # Get results from training metrics\n",
        "    train_acc = train_acc_metric.result()\n",
        "    train_f1score = train_f1score_metric.result()\n",
        "\n",
        "    #Perform validation on all batches of test data\n",
        "    losses_val = perform_validation()\n",
        "\n",
        "    # Get results from validation metrics\n",
        "    val_acc = val_acc_metric.result()\n",
        "    val_f1score = val_f1score_metric.result()\n",
        "\n",
        "    #Calculate training and validation losses for current epoch\n",
        "    losses_train_mean = np.mean(losses_train)\n",
        "    losses_val_mean = np.mean(losses_val)\n",
        "    epochs_val_losses.append(losses_val_mean)\n",
        "    epochs_train_losses.append(losses_train_mean)\n",
        "\n",
        "    print('\\n Epcoh %s: Train loss: %.4f  Validation Loss: %.4f, Train Accuracy: %.4f, Validation Accuracy %.4f, Train F1 Score: %.4f, Validation F1 Score: %.4f' % (epoch, float(losses_train_mean), float(losses_val_mean), float(train_acc), float(val_acc), train_f1score, val_f1score))\n",
        "\n",
        "    #Reset states of all metrics\n",
        "    train_acc_metric.reset_states()\n",
        "    val_acc_metric.reset_states()\n",
        "    val_f1score_metric.reset_states()\n",
        "    train_f1score_metric.reset_states()"
      ]
    },
    {
      "cell_type": "markdown",
      "metadata": {
        "id": "JoLxueMdzm14"
      },
      "source": [
        "## Evaluate the Model"
      ]
    },
    {
      "cell_type": "markdown",
      "metadata": {
        "id": "6EGW3HVUzqBX"
      },
      "source": [
        "### Plots for Evaluation"
      ]
    },
    {
      "cell_type": "markdown",
      "metadata": {
        "id": "t8Wsr6wG0T4h"
      },
      "source": [
        "We plot the progress of loss as training proceeds over number of epochs."
      ]
    },
    {
      "cell_type": "code",
      "execution_count": null,
      "metadata": {
        "id": "MsmF_2n307SP"
      },
      "outputs": [],
      "source": [
        "def plot_metrics(train_metric, val_metric, metric_name, title, ylim=5):\n",
        "    plt.title(title)\n",
        "    plt.ylim(0,ylim)\n",
        "    plt.gca().xaxis.set_major_locator(mticker.MultipleLocator(1))\n",
        "    plt.plot(train_metric,color='blue',label=metric_name)\n",
        "    plt.plot(val_metric,color='green',label='val_' + metric_name)\n",
        "\n",
        "plot_metrics(epochs_train_losses, epochs_val_losses, \"Loss\", \"Loss\", ylim=1.0)"
      ]
    },
    {
      "cell_type": "markdown",
      "metadata": {
        "id": "27fXX7Yqyu5S"
      },
      "source": [
        "We plot the confusion matrix to visualize the true values against the values predicted by the model."
      ]
    },
    {
      "cell_type": "code",
      "execution_count": null,
      "metadata": {
        "id": "_9n2XJ9MwpDS"
      },
      "outputs": [],
      "source": [
        "test_outputs = model(norm_test_X.values)\n",
        "plot_confusion_matrix(test_Y.values, tf.round(test_outputs), title='Confusion Matrix for Untrained Model')"
      ]
    }
  ],
  "metadata": {
    "coursera": {
      "schema_names": [
        "TF3C2W2-1",
        "TF3C2W2-2",
        "TF3C2W2-3"
      ]
    },
    "kernelspec": {
      "display_name": "Python 3",
      "name": "python3"
    },
    "language_info": {
      "codemirror_mode": {
        "name": "ipython",
        "version": 3
      },
      "file_extension": ".py",
      "mimetype": "text/x-python",
      "name": "python",
      "nbconvert_exporter": "python",
      "pygments_lexer": "ipython3",
      "version": "3.7.6"
    },
    "colab": {
      "provenance": [],
      "gpuType": "T4"
    },
    "accelerator": "GPU"
  },
  "nbformat": 4,
  "nbformat_minor": 0
}